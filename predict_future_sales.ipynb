{
 "cells": [
  {
   "cell_type": "markdown",
   "metadata": {},
   "source": [
    "# Predict Future Sales - Kaggle"
   ]
  },
  {
   "cell_type": "markdown",
   "metadata": {},
   "source": [
    "### Team Members: Hrishikesh Reddy Tolmamdi"
   ]
  },
  {
   "cell_type": "code",
   "execution_count": 1,
   "metadata": {},
   "outputs": [],
   "source": [
    "#install.packages(\"ggplot2\")\n",
    "#install.packages(\"readr\")\n",
    "#install.packages(\"plyr\")\n",
    "#install.packages(\"dplyr\")\n",
    "#install.packages(\"lubridate\")\n",
    "#install.packages(\"MLmetrics\")\n",
    "#install.packages(\"Metrics\")\n",
    "#install.packages(\"data.table\")\n",
    "#install.packages(\"MASS\")"
   ]
  },
  {
   "cell_type": "code",
   "execution_count": 3,
   "metadata": {},
   "outputs": [],
   "source": [
    "library(ggplot2)\n",
    "library(readr)\n",
    "library(plyr)\n",
    "library(dplyr)\n",
    "library(lubridate)\n",
    "library(MLmetrics)\n",
    "library(Metrics)\n",
    "library(data.table)\n",
    "library(MASS)"
   ]
  },
  {
   "cell_type": "markdown",
   "metadata": {},
   "source": [
    "#### Read data"
   ]
  },
  {
   "cell_type": "code",
   "execution_count": 4,
   "metadata": {},
   "outputs": [],
   "source": [
    "items <- read.csv(\"items.csv\")\n",
    "shops<- read.csv(\"shops.csv\")\n",
    "sales<- read.csv(\"sales_train.csv\")\n",
    "items_category<- read.csv(\"item_categories.csv\")\n",
    "test_data <- read.csv(\"test.csv\")"
   ]
  },
  {
   "cell_type": "code",
   "execution_count": 5,
   "metadata": {},
   "outputs": [
    {
     "data": {
      "text/plain": [
       " item_category_name item_category_id\n",
       " Length:84          Min.   : 0.00   \n",
       " Class :character   1st Qu.:20.75   \n",
       " Mode  :character   Median :41.50   \n",
       "                    Mean   :41.50   \n",
       "                    3rd Qu.:62.25   \n",
       "                    Max.   :83.00   "
      ]
     },
     "metadata": {},
     "output_type": "display_data"
    },
    {
     "data": {
      "text/plain": [
       "     date           date_block_num     shop_id      item_id     \n",
       " Length:2935849     Min.   : 0.00   Min.   : 0   Min.   :    0  \n",
       " Class :character   1st Qu.: 7.00   1st Qu.:22   1st Qu.: 4476  \n",
       " Mode  :character   Median :14.00   Median :31   Median : 9343  \n",
       "                    Mean   :14.57   Mean   :33   Mean   :10197  \n",
       "                    3rd Qu.:23.00   3rd Qu.:47   3rd Qu.:15684  \n",
       "                    Max.   :33.00   Max.   :59   Max.   :22169  \n",
       "   item_price        item_cnt_day     \n",
       " Min.   :    -1.0   Min.   : -22.000  \n",
       " 1st Qu.:   249.0   1st Qu.:   1.000  \n",
       " Median :   399.0   Median :   1.000  \n",
       " Mean   :   890.9   Mean   :   1.243  \n",
       " 3rd Qu.:   999.0   3rd Qu.:   1.000  \n",
       " Max.   :307980.0   Max.   :2169.000  "
      ]
     },
     "metadata": {},
     "output_type": "display_data"
    },
    {
     "data": {
      "text/plain": [
       "  shop_name            shop_id     \n",
       " Length:60          Min.   : 0.00  \n",
       " Class :character   1st Qu.:14.75  \n",
       " Mode  :character   Median :29.50  \n",
       "                    Mean   :29.50  \n",
       "                    3rd Qu.:44.25  \n",
       "                    Max.   :59.00  "
      ]
     },
     "metadata": {},
     "output_type": "display_data"
    },
    {
     "data": {
      "text/plain": [
       "  item_name            item_id      item_category_id\n",
       " Length:22170       Min.   :    0   Min.   : 0.00   \n",
       " Class :character   1st Qu.: 5542   1st Qu.:37.00   \n",
       " Mode  :character   Median :11084   Median :40.00   \n",
       "                    Mean   :11084   Mean   :46.29   \n",
       "                    3rd Qu.:16627   3rd Qu.:58.00   \n",
       "                    Max.   :22169   Max.   :83.00   "
      ]
     },
     "metadata": {},
     "output_type": "display_data"
    },
    {
     "data": {
      "text/plain": [
       "       ID            shop_id         item_id     \n",
       " Min.   :     0   Min.   : 2.00   Min.   :   30  \n",
       " 1st Qu.: 53550   1st Qu.:16.00   1st Qu.: 5382  \n",
       " Median :107100   Median :34.50   Median :11203  \n",
       " Mean   :107100   Mean   :31.64   Mean   :11019  \n",
       " 3rd Qu.:160649   3rd Qu.:47.00   3rd Qu.:16072  \n",
       " Max.   :214199   Max.   :59.00   Max.   :22167  "
      ]
     },
     "metadata": {},
     "output_type": "display_data"
    }
   ],
   "source": [
    "summary(items_category)\n",
    "summary(sales)\n",
    "summary(shops)\n",
    "summary(items)\n",
    "summary(test_data)"
   ]
  },
  {
   "cell_type": "markdown",
   "metadata": {},
   "source": [
    "#### Merge all data"
   ]
  },
  {
   "cell_type": "code",
   "execution_count": 6,
   "metadata": {
    "scrolled": false
   },
   "outputs": [
    {
     "data": {
      "text/html": [
       "<table>\n",
       "<caption>A data.frame: 6 × 13</caption>\n",
       "<thead>\n",
       "\t<tr><th></th><th scope=col>item_id</th><th scope=col>date</th><th scope=col>date_block_num</th><th scope=col>shop_id</th><th scope=col>item_price</th><th scope=col>item_cnt_day</th><th scope=col>item_name</th><th scope=col>item_category_id</th><th scope=col>day</th><th scope=col>year</th><th scope=col>month</th><th scope=col>dayname</th><th scope=col>daily_sales_value</th></tr>\n",
       "\t<tr><th></th><th scope=col>&lt;fct&gt;</th><th scope=col>&lt;date&gt;</th><th scope=col>&lt;int&gt;</th><th scope=col>&lt;fct&gt;</th><th scope=col>&lt;dbl&gt;</th><th scope=col>&lt;dbl&gt;</th><th scope=col>&lt;chr&gt;</th><th scope=col>&lt;fct&gt;</th><th scope=col>&lt;int&gt;</th><th scope=col>&lt;fct&gt;</th><th scope=col>&lt;fct&gt;</th><th scope=col>&lt;fct&gt;</th><th scope=col>&lt;dbl&gt;</th></tr>\n",
       "</thead>\n",
       "<tbody>\n",
       "\t<tr><th scope=row>1</th><td>0</td><td>2014-09-01</td><td>20</td><td>54</td><td>  58</td><td>1</td><td>! Ð’Ðž Ð’Ð›ÐÐ¡Ð¢Ð˜ ÐÐÐ’ÐÐ–Ð”Ð•ÐÐ˜Ð¯ (ÐŸÐ›ÐÐ¡Ð¢.)         D                  </td><td>40</td><td> 1</td><td>2014</td><td>9 </td><td>Monday   </td><td>  58</td></tr>\n",
       "\t<tr><th scope=row>2</th><td>1</td><td>2014-09-11</td><td>20</td><td>55</td><td>4490</td><td>1</td><td>!ABBYY FineReader 12 Professional Edition Full [PC, Ð¦Ð¸Ñ„Ñ€Ð¾Ð²Ð°Ñ Ð²ÐµÑ€ÑÐ¸Ñ]</td><td>76</td><td>11</td><td>2014</td><td>9 </td><td>Thursday </td><td>4490</td></tr>\n",
       "\t<tr><th scope=row>3</th><td>1</td><td>2014-10-20</td><td>21</td><td>55</td><td>4490</td><td>1</td><td>!ABBYY FineReader 12 Professional Edition Full [PC, Ð¦Ð¸Ñ„Ñ€Ð¾Ð²Ð°Ñ Ð²ÐµÑ€ÑÐ¸Ñ]</td><td>76</td><td>20</td><td>2014</td><td>10</td><td>Monday   </td><td>4490</td></tr>\n",
       "\t<tr><th scope=row>4</th><td>1</td><td>2014-04-04</td><td>15</td><td>55</td><td>4490</td><td>1</td><td>!ABBYY FineReader 12 Professional Edition Full [PC, Ð¦Ð¸Ñ„Ñ€Ð¾Ð²Ð°Ñ Ð²ÐµÑ€ÑÐ¸Ñ]</td><td>76</td><td> 4</td><td>2014</td><td>4 </td><td>Friday   </td><td>4490</td></tr>\n",
       "\t<tr><th scope=row>5</th><td>1</td><td>2014-04-02</td><td>15</td><td>55</td><td>4490</td><td>1</td><td>!ABBYY FineReader 12 Professional Edition Full [PC, Ð¦Ð¸Ñ„Ñ€Ð¾Ð²Ð°Ñ Ð²ÐµÑ€ÑÐ¸Ñ]</td><td>76</td><td> 2</td><td>2014</td><td>4 </td><td>Wednesday</td><td>4490</td></tr>\n",
       "\t<tr><th scope=row>6</th><td>1</td><td>2014-07-06</td><td>18</td><td>55</td><td>4490</td><td>1</td><td>!ABBYY FineReader 12 Professional Edition Full [PC, Ð¦Ð¸Ñ„Ñ€Ð¾Ð²Ð°Ñ Ð²ÐµÑ€ÑÐ¸Ñ]</td><td>76</td><td> 6</td><td>2014</td><td>7 </td><td>Sunday   </td><td>4490</td></tr>\n",
       "</tbody>\n",
       "</table>\n"
      ],
      "text/latex": [
       "A data.frame: 6 × 13\n",
       "\\begin{tabular}{r|lllllllllllll}\n",
       "  & item\\_id & date & date\\_block\\_num & shop\\_id & item\\_price & item\\_cnt\\_day & item\\_name & item\\_category\\_id & day & year & month & dayname & daily\\_sales\\_value\\\\\n",
       "  & <fct> & <date> & <int> & <fct> & <dbl> & <dbl> & <chr> & <fct> & <int> & <fct> & <fct> & <fct> & <dbl>\\\\\n",
       "\\hline\n",
       "\t1 & 0 & 2014-09-01 & 20 & 54 &   58 & 1 & ! Ð’Ðž Ð’Ð›ÐÐ¡Ð¢Ð˜ ÐÐÐ’ÐÐ–Ð”Ð•ÐÐ˜Ð¯ (ÐŸÐ›ÐÐ¡Ð¢.)         D                   & 40 &  1 & 2014 & 9  & Monday    &   58\\\\\n",
       "\t2 & 1 & 2014-09-11 & 20 & 55 & 4490 & 1 & !ABBYY FineReader 12 Professional Edition Full {[}PC, Ð¦Ð¸Ñ„Ñ€Ð¾Ð²Ð°Ñ Ð²ÐµÑ€ÑÐ¸Ñ{]} & 76 & 11 & 2014 & 9  & Thursday  & 4490\\\\\n",
       "\t3 & 1 & 2014-10-20 & 21 & 55 & 4490 & 1 & !ABBYY FineReader 12 Professional Edition Full {[}PC, Ð¦Ð¸Ñ„Ñ€Ð¾Ð²Ð°Ñ Ð²ÐµÑ€ÑÐ¸Ñ{]} & 76 & 20 & 2014 & 10 & Monday    & 4490\\\\\n",
       "\t4 & 1 & 2014-04-04 & 15 & 55 & 4490 & 1 & !ABBYY FineReader 12 Professional Edition Full {[}PC, Ð¦Ð¸Ñ„Ñ€Ð¾Ð²Ð°Ñ Ð²ÐµÑ€ÑÐ¸Ñ{]} & 76 &  4 & 2014 & 4  & Friday    & 4490\\\\\n",
       "\t5 & 1 & 2014-04-02 & 15 & 55 & 4490 & 1 & !ABBYY FineReader 12 Professional Edition Full {[}PC, Ð¦Ð¸Ñ„Ñ€Ð¾Ð²Ð°Ñ Ð²ÐµÑ€ÑÐ¸Ñ{]} & 76 &  2 & 2014 & 4  & Wednesday & 4490\\\\\n",
       "\t6 & 1 & 2014-07-06 & 18 & 55 & 4490 & 1 & !ABBYY FineReader 12 Professional Edition Full {[}PC, Ð¦Ð¸Ñ„Ñ€Ð¾Ð²Ð°Ñ Ð²ÐµÑ€ÑÐ¸Ñ{]} & 76 &  6 & 2014 & 7  & Sunday    & 4490\\\\\n",
       "\\end{tabular}\n"
      ],
      "text/markdown": [
       "\n",
       "A data.frame: 6 × 13\n",
       "\n",
       "| <!--/--> | item_id &lt;fct&gt; | date &lt;date&gt; | date_block_num &lt;int&gt; | shop_id &lt;fct&gt; | item_price &lt;dbl&gt; | item_cnt_day &lt;dbl&gt; | item_name &lt;chr&gt; | item_category_id &lt;fct&gt; | day &lt;int&gt; | year &lt;fct&gt; | month &lt;fct&gt; | dayname &lt;fct&gt; | daily_sales_value &lt;dbl&gt; |\n",
       "|---|---|---|---|---|---|---|---|---|---|---|---|---|---|\n",
       "| 1 | 0 | 2014-09-01 | 20 | 54 |   58 | 1 | ! Ð’Ðž Ð’Ð›ÐÐ¡Ð¢Ð˜ ÐÐÐ’ÐÐ–Ð”Ð•ÐÐ˜Ð¯ (ÐŸÐ›ÐÐ¡Ð¢.)         D                   | 40 |  1 | 2014 | 9  | Monday    |   58 |\n",
       "| 2 | 1 | 2014-09-11 | 20 | 55 | 4490 | 1 | !ABBYY FineReader 12 Professional Edition Full [PC, Ð¦Ð¸Ñ„Ñ€Ð¾Ð²Ð°Ñ Ð²ÐµÑ€ÑÐ¸Ñ] | 76 | 11 | 2014 | 9  | Thursday  | 4490 |\n",
       "| 3 | 1 | 2014-10-20 | 21 | 55 | 4490 | 1 | !ABBYY FineReader 12 Professional Edition Full [PC, Ð¦Ð¸Ñ„Ñ€Ð¾Ð²Ð°Ñ Ð²ÐµÑ€ÑÐ¸Ñ] | 76 | 20 | 2014 | 10 | Monday    | 4490 |\n",
       "| 4 | 1 | 2014-04-04 | 15 | 55 | 4490 | 1 | !ABBYY FineReader 12 Professional Edition Full [PC, Ð¦Ð¸Ñ„Ñ€Ð¾Ð²Ð°Ñ Ð²ÐµÑ€ÑÐ¸Ñ] | 76 |  4 | 2014 | 4  | Friday    | 4490 |\n",
       "| 5 | 1 | 2014-04-02 | 15 | 55 | 4490 | 1 | !ABBYY FineReader 12 Professional Edition Full [PC, Ð¦Ð¸Ñ„Ñ€Ð¾Ð²Ð°Ñ Ð²ÐµÑ€ÑÐ¸Ñ] | 76 |  2 | 2014 | 4  | Wednesday | 4490 |\n",
       "| 6 | 1 | 2014-07-06 | 18 | 55 | 4490 | 1 | !ABBYY FineReader 12 Professional Edition Full [PC, Ð¦Ð¸Ñ„Ñ€Ð¾Ð²Ð°Ñ Ð²ÐµÑ€ÑÐ¸Ñ] | 76 |  6 | 2014 | 7  | Sunday    | 4490 |\n",
       "\n"
      ],
      "text/plain": [
       "  item_id date       date_block_num shop_id item_price item_cnt_day\n",
       "1 0       2014-09-01 20             54        58       1           \n",
       "2 1       2014-09-11 20             55      4490       1           \n",
       "3 1       2014-10-20 21             55      4490       1           \n",
       "4 1       2014-04-04 15             55      4490       1           \n",
       "5 1       2014-04-02 15             55      4490       1           \n",
       "6 1       2014-07-06 18             55      4490       1           \n",
       "  item_name                                                                         \n",
       "1 ! Ð’Ðž Ð’Ð›Ð\\220Ð¡Ð¢Ð\\230 Ð\\235Ð\\220Ð’Ð\\220Ð–Ð”Ð•Ð\\235Ð\\230Ð¯ (ÐŸÐ›Ð\\220Ð¡Ð¢.)         D                  \n",
       "2 !ABBYY FineReader 12 Professional Edition Full [PC, Ð¦Ð¸Ñ„Ñ\\200Ð¾Ð²Ð°Ñ\\217 Ð²ÐµÑ\\200Ñ\\201Ð¸Ñ\\217]\n",
       "3 !ABBYY FineReader 12 Professional Edition Full [PC, Ð¦Ð¸Ñ„Ñ\\200Ð¾Ð²Ð°Ñ\\217 Ð²ÐµÑ\\200Ñ\\201Ð¸Ñ\\217]\n",
       "4 !ABBYY FineReader 12 Professional Edition Full [PC, Ð¦Ð¸Ñ„Ñ\\200Ð¾Ð²Ð°Ñ\\217 Ð²ÐµÑ\\200Ñ\\201Ð¸Ñ\\217]\n",
       "5 !ABBYY FineReader 12 Professional Edition Full [PC, Ð¦Ð¸Ñ„Ñ\\200Ð¾Ð²Ð°Ñ\\217 Ð²ÐµÑ\\200Ñ\\201Ð¸Ñ\\217]\n",
       "6 !ABBYY FineReader 12 Professional Edition Full [PC, Ð¦Ð¸Ñ„Ñ\\200Ð¾Ð²Ð°Ñ\\217 Ð²ÐµÑ\\200Ñ\\201Ð¸Ñ\\217]\n",
       "  item_category_id day year month dayname   daily_sales_value\n",
       "1 40                1  2014 9     Monday      58             \n",
       "2 76               11  2014 9     Thursday  4490             \n",
       "3 76               20  2014 10    Monday    4490             \n",
       "4 76                4  2014 4     Friday    4490             \n",
       "5 76                2  2014 4     Wednesday 4490             \n",
       "6 76                6  2014 7     Sunday    4490             "
      ]
     },
     "metadata": {},
     "output_type": "display_data"
    },
    {
     "data": {
      "text/plain": [
       "    item_id             date            date_block_num     shop_id       \n",
       " 20949  :  31340   Min.   :2013-01-01   Min.   : 0.00   31     : 235636  \n",
       " 5822   :   9408   1st Qu.:2013-08-01   1st Qu.: 7.00   25     : 186104  \n",
       " 17717  :   9067   Median :2014-03-04   Median :14.00   54     : 143480  \n",
       " 2808   :   7479   Mean   :2014-04-03   Mean   :14.57   28     : 142234  \n",
       " 4181   :   6853   3rd Qu.:2014-12-05   3rd Qu.:23.00   57     : 117428  \n",
       " 7856   :   6602   Max.   :2015-10-31   Max.   :33.00   42     : 109253  \n",
       " (Other):2865100                                        (Other):2001714  \n",
       "   item_price         item_cnt_day       item_name         item_category_id \n",
       " Min.   :     0.07   Min.   :   1.000   Length:2935849     40     : 564652  \n",
       " 1st Qu.:   249.00   1st Qu.:   1.000   Class :character   30     : 351591  \n",
       " Median :   399.00   Median :   1.000   Mode  :character   55     : 339585  \n",
       " Mean   :   890.85   Mean   :   1.248                      19     : 208219  \n",
       " 3rd Qu.:   999.00   3rd Qu.:   1.000                      37     : 192674  \n",
       " Max.   :307980.00   Max.   :2169.000                      23     : 146789  \n",
       "                                                           (Other):1132339  \n",
       "      day          year             month              dayname      \n",
       " Min.   : 1.00   2013:1267562   1      : 303561   Friday   :439298  \n",
       " 1st Qu.: 8.00   2014:1055861   3      : 284057   Monday   :337074  \n",
       " Median :16.00   2015: 612426   12     : 274032   Saturday :590359  \n",
       " Mean   :15.85                  2      : 270251   Sunday   :503104  \n",
       " 3rd Qu.:24.00                  8      : 248415   Thursday :367280  \n",
       " Max.   :31.00                  6      : 237428   Tuesday  :345772  \n",
       "                                (Other):1318105   Wednesday:352962  \n",
       " daily_sales_value  \n",
       " Min.   :      0.1  \n",
       " 1st Qu.:    249.0  \n",
       " Median :    449.0  \n",
       " Mean   :   1165.1  \n",
       " 3rd Qu.:   1090.0  \n",
       " Max.   :1829990.0  \n",
       "                    "
      ]
     },
     "metadata": {},
     "output_type": "display_data"
    }
   ],
   "source": [
    "##Creating Train as \"all_data\" with all required columns\n",
    "all_data <- merge (sales, items, by = \"item_id\")\n",
    "\n",
    "all_data$date <- dmy(all_data$date)\n",
    "all_data$day <- day(all_data$date)\n",
    "\n",
    "all_data$year <- year(all_data$date)\n",
    "all_data$year <- as.factor(all_data$year)\n",
    "\n",
    "all_data$month <- month(all_data$date)\n",
    "all_data$month <- as.factor(all_data$month)\n",
    "\n",
    "all_data$dayname <- weekdays(all_data$date)\n",
    "all_data$dayname <- as.factor(all_data$dayname)\n",
    "\n",
    "all_data$shop_id <- as.factor(all_data$shop_id)\n",
    "all_data$item_id <- as.factor(all_data$item_id)\n",
    "all_data$item_category_id <- as.factor(all_data$item_category_id)\n",
    "\n",
    "all_data$daily_sales_value  <-  0\n",
    "\n",
    "#Finding missing values\n",
    "all_data$item_cnt_day[all_data$item_cnt_day < 0] <- NA\n",
    "all_data$item_price[all_data$item_price < 0] <- NA\n",
    "\n",
    "##Populating the missing values by the mean value\n",
    "\n",
    "all_data$item_cnt_day[is.na(all_data$item_cnt_day)]<- round(mean(all_data$item_cnt_day, na.rm = \"TRUE\"))\n",
    "all_data$item_price[is.na(all_data$item_price)]<- round(mean(all_data$item_price, na.rm = \"TRUE\"))\n",
    "\n",
    "all_data$daily_sales_value <- all_data$item_price * all_data$item_cnt_day\n",
    "\n",
    "head(all_data)\n",
    "#str(all_data)\n",
    "summary(all_data)"
   ]
  },
  {
   "cell_type": "markdown",
   "metadata": {},
   "source": [
    "#### Getting to know the data"
   ]
  },
  {
   "cell_type": "code",
   "execution_count": 7,
   "metadata": {},
   "outputs": [
    {
     "data": {
      "image/png": "[encoded data removed]",
      "text/plain": [
       "plot without title"
      ]
     },
     "metadata": {
      "image/png": {
       "height": 420,
       "width": 420
      }
     },
     "output_type": "display_data"
    }
   ],
   "source": [
    "## Data exploration using the following plots \n",
    "monthwise_sales<- aggregate(all_data$daily_sales_value, \n",
    "                            by=list(all_data$date_block_num), FUN=sum)\n",
    "shopIDwise_sales<- aggregate(all_data$daily_sales_value,\n",
    "                              by=list(all_data$shop_id), FUN=sum)\n",
    "itemIDwise_sales<- aggregate(all_data$daily_sales_value,\n",
    "                             by=list(all_data$item_id), FUN=sum)\n",
    "plot(monthwise_sales, type= 'l', xlab= \"Month\",ylab= \"Sales\")"
   ]
  },
  {
   "cell_type": "code",
   "execution_count": 8,
   "metadata": {},
   "outputs": [
    {
     "data": {
      "image/png": "[encoded data removed]",
      "text/plain": [
       "plot without title"
      ]
     },
     "metadata": {
      "image/png": {
       "height": 420,
       "width": 420
      }
     },
     "output_type": "display_data"
    },
    {
     "data": {
      "image/png": "[encoded data removed]",
      "text/plain": [
       "plot without title"
      ]
     },
     "metadata": {
      "image/png": {
       "height": 420,
       "width": 420
      }
     },
     "output_type": "display_data"
    },
    {
     "data": {
      "image/png": "[encoded data removed]",
      "text/plain": [
       "plot without title"
      ]
     },
     "metadata": {
      "image/png": {
       "height": 420,
       "width": 420
      }
     },
     "output_type": "display_data"
    }
   ],
   "source": [
    "## Outliers detection using boxplot\n",
    "boxplot(monthwise_sales$x)\n",
    "boxplot(shopIDwise_sales$x)\n",
    "boxplot(itemIDwise_sales$x)"
   ]
  },
  {
   "cell_type": "code",
   "execution_count": 9,
   "metadata": {},
   "outputs": [
    {
     "data": {
      "text/html": [
       "<table>\n",
       "<caption>A data.frame: 6 × 7</caption>\n",
       "<thead>\n",
       "\t<tr><th></th><th scope=col>date_block_num</th><th scope=col>month</th><th scope=col>shop_id</th><th scope=col>item_category_id</th><th scope=col>item_id</th><th scope=col>item_price</th><th scope=col>item_cnt_month</th></tr>\n",
       "\t<tr><th></th><th scope=col>&lt;int&gt;</th><th scope=col>&lt;fct&gt;</th><th scope=col>&lt;fct&gt;</th><th scope=col>&lt;fct&gt;</th><th scope=col>&lt;fct&gt;</th><th scope=col>&lt;dbl&gt;</th><th scope=col>&lt;dbl&gt;</th></tr>\n",
       "</thead>\n",
       "<tbody>\n",
       "\t<tr><th scope=row>1</th><td>20</td><td>9 </td><td>54</td><td>40</td><td>0</td><td>  58</td><td>2.083333</td></tr>\n",
       "\t<tr><th scope=row>2</th><td>20</td><td>9 </td><td>55</td><td>76</td><td>1</td><td>4490</td><td>2.083333</td></tr>\n",
       "\t<tr><th scope=row>3</th><td>21</td><td>10</td><td>55</td><td>76</td><td>1</td><td>4490</td><td>2.083333</td></tr>\n",
       "\t<tr><th scope=row>4</th><td>15</td><td>4 </td><td>55</td><td>76</td><td>1</td><td>4490</td><td>2.166667</td></tr>\n",
       "\t<tr><th scope=row>5</th><td>18</td><td>7 </td><td>55</td><td>76</td><td>1</td><td>4490</td><td>2.083333</td></tr>\n",
       "\t<tr><th scope=row>6</th><td>19</td><td>8 </td><td>55</td><td>76</td><td>1</td><td>4490</td><td>2.083333</td></tr>\n",
       "</tbody>\n",
       "</table>\n"
      ],
      "text/latex": [
       "A data.frame: 6 × 7\n",
       "\\begin{tabular}{r|lllllll}\n",
       "  & date\\_block\\_num & month & shop\\_id & item\\_category\\_id & item\\_id & item\\_price & item\\_cnt\\_month\\\\\n",
       "  & <int> & <fct> & <fct> & <fct> & <fct> & <dbl> & <dbl>\\\\\n",
       "\\hline\n",
       "\t1 & 20 & 9  & 54 & 40 & 0 &   58 & 2.083333\\\\\n",
       "\t2 & 20 & 9  & 55 & 76 & 1 & 4490 & 2.083333\\\\\n",
       "\t3 & 21 & 10 & 55 & 76 & 1 & 4490 & 2.083333\\\\\n",
       "\t4 & 15 & 4  & 55 & 76 & 1 & 4490 & 2.166667\\\\\n",
       "\t5 & 18 & 7  & 55 & 76 & 1 & 4490 & 2.083333\\\\\n",
       "\t6 & 19 & 8  & 55 & 76 & 1 & 4490 & 2.083333\\\\\n",
       "\\end{tabular}\n"
      ],
      "text/markdown": [
       "\n",
       "A data.frame: 6 × 7\n",
       "\n",
       "| <!--/--> | date_block_num &lt;int&gt; | month &lt;fct&gt; | shop_id &lt;fct&gt; | item_category_id &lt;fct&gt; | item_id &lt;fct&gt; | item_price &lt;dbl&gt; | item_cnt_month &lt;dbl&gt; |\n",
       "|---|---|---|---|---|---|---|---|\n",
       "| 1 | 20 | 9  | 54 | 40 | 0 |   58 | 2.083333 |\n",
       "| 2 | 20 | 9  | 55 | 76 | 1 | 4490 | 2.083333 |\n",
       "| 3 | 21 | 10 | 55 | 76 | 1 | 4490 | 2.083333 |\n",
       "| 4 | 15 | 4  | 55 | 76 | 1 | 4490 | 2.166667 |\n",
       "| 5 | 18 | 7  | 55 | 76 | 1 | 4490 | 2.083333 |\n",
       "| 6 | 19 | 8  | 55 | 76 | 1 | 4490 | 2.083333 |\n",
       "\n"
      ],
      "text/plain": [
       "  date_block_num month shop_id item_category_id item_id item_price\n",
       "1 20             9     54      40               0         58      \n",
       "2 20             9     55      76               1       4490      \n",
       "3 21             10    55      76               1       4490      \n",
       "4 15             4     55      76               1       4490      \n",
       "5 18             7     55      76               1       4490      \n",
       "6 19             8     55      76               1       4490      \n",
       "  item_cnt_month\n",
       "1 2.083333      \n",
       "2 2.083333      \n",
       "3 2.083333      \n",
       "4 2.166667      \n",
       "5 2.083333      \n",
       "6 2.083333      "
      ]
     },
     "metadata": {},
     "output_type": "display_data"
    }
   ],
   "source": [
    "#getting item_cnt_month for all_data\n",
    "all_data  <-  as.data.table(all_data)\n",
    "x  <-  c(\"date_block_num\", \"month\",\"shop_id\", \"item_category_id\", \"item_id\", \"item_price\")\n",
    "all_data  <-  all_data[, list(item_cnt_month=(sum(item_cnt_day))/12), by = x]\n",
    "all_data=as.data.frame(all_data)\n",
    "all_data$item_cnt_month <- all_data$item_cnt_month + 2  #to avoid negative logs\n",
    "head(all_data)"
   ]
  },
  {
   "cell_type": "markdown",
   "metadata": {},
   "source": [
    "#### CROSS VALIDATION"
   ]
  },
  {
   "cell_type": "code",
   "execution_count": 10,
   "metadata": {},
   "outputs": [
    {
     "data": {
      "text/html": [
       "<table>\n",
       "<caption>A data.frame: 6 × 4</caption>\n",
       "<thead>\n",
       "\t<tr><th></th><th scope=col>date_block_num</th><th scope=col>month</th><th scope=col>item_category_id</th><th scope=col>item_cnt_month</th></tr>\n",
       "\t<tr><th></th><th scope=col>&lt;int&gt;</th><th scope=col>&lt;fct&gt;</th><th scope=col>&lt;fct&gt;</th><th scope=col>&lt;dbl&gt;</th></tr>\n",
       "</thead>\n",
       "<tbody>\n",
       "\t<tr><th scope=row>1</th><td>20</td><td>9 </td><td>40</td><td>2.083333</td></tr>\n",
       "\t<tr><th scope=row>2</th><td>20</td><td>9 </td><td>76</td><td>2.083333</td></tr>\n",
       "\t<tr><th scope=row>3</th><td>21</td><td>10</td><td>76</td><td>2.083333</td></tr>\n",
       "\t<tr><th scope=row>4</th><td>15</td><td>4 </td><td>76</td><td>2.166667</td></tr>\n",
       "\t<tr><th scope=row>5</th><td>18</td><td>7 </td><td>76</td><td>2.083333</td></tr>\n",
       "\t<tr><th scope=row>6</th><td>19</td><td>8 </td><td>76</td><td>2.083333</td></tr>\n",
       "</tbody>\n",
       "</table>\n"
      ],
      "text/latex": [
       "A data.frame: 6 × 4\n",
       "\\begin{tabular}{r|llll}\n",
       "  & date\\_block\\_num & month & item\\_category\\_id & item\\_cnt\\_month\\\\\n",
       "  & <int> & <fct> & <fct> & <dbl>\\\\\n",
       "\\hline\n",
       "\t1 & 20 & 9  & 40 & 2.083333\\\\\n",
       "\t2 & 20 & 9  & 76 & 2.083333\\\\\n",
       "\t3 & 21 & 10 & 76 & 2.083333\\\\\n",
       "\t4 & 15 & 4  & 76 & 2.166667\\\\\n",
       "\t5 & 18 & 7  & 76 & 2.083333\\\\\n",
       "\t6 & 19 & 8  & 76 & 2.083333\\\\\n",
       "\\end{tabular}\n"
      ],
      "text/markdown": [
       "\n",
       "A data.frame: 6 × 4\n",
       "\n",
       "| <!--/--> | date_block_num &lt;int&gt; | month &lt;fct&gt; | item_category_id &lt;fct&gt; | item_cnt_month &lt;dbl&gt; |\n",
       "|---|---|---|---|---|\n",
       "| 1 | 20 | 9  | 40 | 2.083333 |\n",
       "| 2 | 20 | 9  | 76 | 2.083333 |\n",
       "| 3 | 21 | 10 | 76 | 2.083333 |\n",
       "| 4 | 15 | 4  | 76 | 2.166667 |\n",
       "| 5 | 18 | 7  | 76 | 2.083333 |\n",
       "| 6 | 19 | 8  | 76 | 2.083333 |\n",
       "\n"
      ],
      "text/plain": [
       "  date_block_num month item_category_id item_cnt_month\n",
       "1 20             9     40               2.083333      \n",
       "2 20             9     76               2.083333      \n",
       "3 21             10    76               2.083333      \n",
       "4 15             4     76               2.166667      \n",
       "5 18             7     76               2.083333      \n",
       "6 19             8     76               2.083333      "
      ]
     },
     "metadata": {},
     "output_type": "display_data"
    },
    {
     "data": {
      "text/html": [
       "<table>\n",
       "<caption>A data.frame: 6 × 3</caption>\n",
       "<thead>\n",
       "\t<tr><th></th><th scope=col>date_block_num</th><th scope=col>month</th><th scope=col>item_category_id</th></tr>\n",
       "\t<tr><th></th><th scope=col>&lt;int&gt;</th><th scope=col>&lt;fct&gt;</th><th scope=col>&lt;fct&gt;</th></tr>\n",
       "</thead>\n",
       "<tbody>\n",
       "\t<tr><th scope=row>484</th><td>33</td><td>10</td><td>40</td></tr>\n",
       "\t<tr><th scope=row>811</th><td>33</td><td>10</td><td>37</td></tr>\n",
       "\t<tr><th scope=row>817</th><td>33</td><td>10</td><td>37</td></tr>\n",
       "\t<tr><th scope=row>846</th><td>33</td><td>10</td><td>37</td></tr>\n",
       "\t<tr><th scope=row>884</th><td>33</td><td>10</td><td>37</td></tr>\n",
       "\t<tr><th scope=row>888</th><td>33</td><td>10</td><td>37</td></tr>\n",
       "</tbody>\n",
       "</table>\n"
      ],
      "text/latex": [
       "A data.frame: 6 × 3\n",
       "\\begin{tabular}{r|lll}\n",
       "  & date\\_block\\_num & month & item\\_category\\_id\\\\\n",
       "  & <int> & <fct> & <fct>\\\\\n",
       "\\hline\n",
       "\t484 & 33 & 10 & 40\\\\\n",
       "\t811 & 33 & 10 & 37\\\\\n",
       "\t817 & 33 & 10 & 37\\\\\n",
       "\t846 & 33 & 10 & 37\\\\\n",
       "\t884 & 33 & 10 & 37\\\\\n",
       "\t888 & 33 & 10 & 37\\\\\n",
       "\\end{tabular}\n"
      ],
      "text/markdown": [
       "\n",
       "A data.frame: 6 × 3\n",
       "\n",
       "| <!--/--> | date_block_num &lt;int&gt; | month &lt;fct&gt; | item_category_id &lt;fct&gt; |\n",
       "|---|---|---|---|\n",
       "| 484 | 33 | 10 | 40 |\n",
       "| 811 | 33 | 10 | 37 |\n",
       "| 817 | 33 | 10 | 37 |\n",
       "| 846 | 33 | 10 | 37 |\n",
       "| 884 | 33 | 10 | 37 |\n",
       "| 888 | 33 | 10 | 37 |\n",
       "\n"
      ],
      "text/plain": [
       "    date_block_num month item_category_id\n",
       "484 33             10    40              \n",
       "811 33             10    37              \n",
       "817 33             10    37              \n",
       "846 33             10    37              \n",
       "884 33             10    37              \n",
       "888 33             10    37              "
      ]
     },
     "metadata": {},
     "output_type": "display_data"
    }
   ],
   "source": [
    "### CROSS VALIDATION by splitting all_data into train (jan 2013 to sept 2015) and test (oct 2015)\n",
    "\n",
    "##traindata\n",
    "a<-all_data$date_block_num!=33\n",
    "traincross<-all_data[a,]\n",
    "traincross<-traincross[,c(1,2,4,7)]\n",
    "head(traincross)\n",
    "\n",
    "##testdata\n",
    "b<-all_data$date_block_num==33\n",
    "testcross_act<-all_data[b,]\n",
    "testcross_pred<-testcross_act[,c(1,2,4)]\n",
    "#head(testcross_act)\n",
    "head(testcross_pred)"
   ]
  },
  {
   "cell_type": "markdown",
   "metadata": {},
   "source": [
    "#### Model for cross validation"
   ]
  },
  {
   "cell_type": "code",
   "execution_count": 11,
   "metadata": {
    "scrolled": false
   },
   "outputs": [
    {
     "data": {
      "text/plain": [
       "\n",
       "Call:\n",
       "lm(formula = log(item_cnt_month) ~ ., data = traincross)\n",
       "\n",
       "Residuals:\n",
       "    Min      1Q  Median      3Q     Max \n",
       "-1.3503 -0.0312 -0.0180  0.0043  3.8196 \n",
       "\n",
       "Coefficients:\n",
       "                     Estimate Std. Error t value Pr(>|t|)    \n",
       "(Intercept)         7.359e-01  5.226e-02  14.080  < 2e-16 ***\n",
       "date_block_num     -3.898e-04  8.044e-06 -48.453  < 2e-16 ***\n",
       "month2             -2.042e-03  3.110e-04  -6.564 5.22e-11 ***\n",
       "month3              7.523e-04  3.096e-04   2.430  0.01511 *  \n",
       "month4             -2.083e-03  3.241e-04  -6.428 1.29e-10 ***\n",
       "month5             -3.993e-03  3.250e-04 -12.286  < 2e-16 ***\n",
       "month6             -3.061e-03  3.227e-04  -9.485  < 2e-16 ***\n",
       "month7             -4.266e-03  3.241e-04 -13.162  < 2e-16 ***\n",
       "month8             -3.941e-03  3.204e-04 -12.300  < 2e-16 ***\n",
       "month9              2.361e-03  3.337e-04   7.075 1.49e-12 ***\n",
       "month10             6.760e-03  3.603e-04  18.762  < 2e-16 ***\n",
       "month11             8.987e-03  3.580e-04  25.105  < 2e-16 ***\n",
       "month12             1.500e-02  3.284e-04  45.675  < 2e-16 ***\n",
       "item_category_id1  -6.789e-04  8.264e-02  -0.008  0.99345    \n",
       "item_category_id2   2.563e-02  5.227e-02   0.490  0.62396    \n",
       "item_category_id3   6.660e-02  5.227e-02   1.274  0.20261    \n",
       "item_category_id4   2.619e-02  5.232e-02   0.501  0.61663    \n",
       "item_category_id5   1.695e-02  5.228e-02   0.324  0.74571    \n",
       "item_category_id6   3.850e-02  5.227e-02   0.736  0.46143    \n",
       "item_category_id7   3.124e-02  5.229e-02   0.597  0.55019    \n",
       "item_category_id8   4.117e-01  5.242e-02   7.855 4.01e-15 ***\n",
       "item_category_id9   1.878e-01  5.230e-02   3.590  0.00033 ***\n",
       "item_category_id10  1.358e-03  1.045e-01   0.013  0.98964    \n",
       "item_category_id11  1.716e-02  5.228e-02   0.328  0.74268    \n",
       "item_category_id12  1.082e-01  5.229e-02   2.069  0.03854 *  \n",
       "item_category_id13  8.186e-03  5.252e-02   0.156  0.87614    \n",
       "item_category_id14  1.354e-02  5.230e-02   0.259  0.79574    \n",
       "item_category_id15  2.216e-02  5.229e-02   0.424  0.67163    \n",
       "item_category_id16  2.484e-02  5.231e-02   0.475  0.63493    \n",
       "item_category_id17  6.524e-03  5.254e-02   0.124  0.90117    \n",
       "item_category_id18  1.277e-02  6.035e-02   0.212  0.83240    \n",
       "item_category_id19  4.630e-02  5.227e-02   0.886  0.37566    \n",
       "item_category_id20  9.466e-02  5.227e-02   1.811  0.07014 .  \n",
       "item_category_id21  2.081e-02  5.227e-02   0.398  0.69051    \n",
       "item_category_id22  2.743e-02  5.227e-02   0.525  0.59969    \n",
       "item_category_id23  3.777e-02  5.227e-02   0.723  0.46984    \n",
       "item_category_id24  2.725e-02  5.227e-02   0.521  0.60218    \n",
       "item_category_id25  1.911e-02  5.227e-02   0.366  0.71472    \n",
       "item_category_id26  1.423e-01  5.587e-02   2.546  0.01089 *  \n",
       "item_category_id27  4.809e-03  6.247e-02   0.077  0.93863    \n",
       "item_category_id28  7.083e-02  5.227e-02   1.355  0.17535    \n",
       "item_category_id29  7.679e-02  5.228e-02   1.469  0.14185    \n",
       "item_category_id30  6.922e-02  5.227e-02   1.324  0.18537    \n",
       "item_category_id31  7.551e-02  5.227e-02   1.445  0.14858    \n",
       "item_category_id32  7.804e-02  5.230e-02   1.492  0.13569    \n",
       "item_category_id33  4.157e-02  5.228e-02   0.795  0.42661    \n",
       "item_category_id34  1.034e+00  5.304e-02  19.495  < 2e-16 ***\n",
       "item_category_id35  1.475e-01  5.228e-02   2.822  0.00477 ** \n",
       "item_category_id36  6.079e-02  6.401e-02   0.950  0.34227    \n",
       "item_category_id37  1.860e-02  5.227e-02   0.356  0.72196    \n",
       "item_category_id38  1.755e-02  5.227e-02   0.336  0.73708    \n",
       "item_category_id39  1.757e-02  5.243e-02   0.335  0.73748    \n",
       "item_category_id40  3.170e-02  5.226e-02   0.607  0.54411    \n",
       "item_category_id41  1.479e-02  5.227e-02   0.283  0.77715    \n",
       "item_category_id42  8.790e-02  5.235e-02   1.679  0.09316 .  \n",
       "item_category_id43  1.097e-02  5.227e-02   0.210  0.83380    \n",
       "item_category_id44  9.340e-03  5.265e-02   0.177  0.85919    \n",
       "item_category_id45  9.862e-03  5.228e-02   0.189  0.85038    \n",
       "item_category_id46  2.423e-03  5.725e-02   0.042  0.96625    \n",
       "item_category_id47  4.148e-02  5.231e-02   0.793  0.42773    \n",
       "item_category_id48 -1.144e-03  6.401e-02  -0.018  0.98575    \n",
       "item_category_id49  4.071e-02  5.227e-02   0.779  0.43608    \n",
       "item_category_id50  2.710e-02  8.264e-02   0.328  0.74298    \n",
       "item_category_id51  9.388e-03  1.045e-01   0.090  0.92844    \n",
       "item_category_id52  3.658e-03  7.391e-02   0.049  0.96053    \n",
       "item_category_id53 -4.179e-03  7.391e-02  -0.057  0.95491    \n",
       "item_category_id54  2.150e-01  5.236e-02   4.107 4.01e-05 ***\n",
       "item_category_id55  1.789e-02  5.226e-02   0.342  0.73215    \n",
       "item_category_id56  1.261e-02  5.228e-02   0.241  0.80937    \n",
       "item_category_id57  1.576e-02  5.227e-02   0.302  0.76296    \n",
       "item_category_id58  7.776e-03  5.227e-02   0.149  0.88175    \n",
       "item_category_id59  6.440e-03  5.228e-02   0.123  0.90195    \n",
       "item_category_id60  6.348e-03  5.232e-02   0.121  0.90344    \n",
       "item_category_id61  3.391e-02  5.228e-02   0.649  0.51653    \n",
       "item_category_id62  2.761e-02  5.227e-02   0.528  0.59738    \n",
       "item_category_id63  2.969e-02  5.227e-02   0.568  0.57002    \n",
       "item_category_id64  2.568e-02  5.227e-02   0.491  0.62315    \n",
       "item_category_id65  6.698e-02  5.227e-02   1.282  0.20000    \n",
       "item_category_id66  5.642e-02  5.230e-02   1.079  0.28071    \n",
       "item_category_id67  2.138e-02  5.227e-02   0.409  0.68248    \n",
       "item_category_id68  6.436e-03  5.299e-02   0.121  0.90334    \n",
       "item_category_id69  4.111e-02  5.227e-02   0.786  0.43158    \n",
       "item_category_id70  5.353e-02  5.227e-02   1.024  0.30578    \n",
       "item_category_id71  1.345e+00  5.231e-02  25.712  < 2e-16 ***\n",
       "item_category_id72  2.787e-02  5.227e-02   0.533  0.59383    \n",
       "item_category_id73  5.040e-02  5.228e-02   0.964  0.33501    \n",
       "item_category_id74  7.590e-02  5.624e-02   1.349  0.17718    \n",
       "item_category_id75  4.740e-02  5.227e-02   0.907  0.36448    \n",
       "item_category_id76  8.112e-02  5.232e-02   1.551  0.12100    \n",
       "item_category_id77  2.512e-02  5.230e-02   0.480  0.63097    \n",
       "item_category_id78  2.311e-02  5.231e-02   0.442  0.65871    \n",
       "item_category_id79  4.761e-02  5.228e-02   0.911  0.36240    \n",
       "item_category_id80  2.549e-01  5.247e-02   4.858 1.18e-06 ***\n",
       "item_category_id81  7.155e-02  5.250e-02   1.363  0.17297    \n",
       "item_category_id82  3.370e-01  5.236e-02   6.436 1.23e-10 ***\n",
       "item_category_id83  1.266e-01  5.230e-02   2.421  0.01550 *  \n",
       "---\n",
       "Signif. codes:  0 '***' 0.001 '**' 0.01 '*' 0.05 '.' 0.1 ' ' 1\n",
       "\n",
       "Residual standard error: 0.09052 on 1705728 degrees of freedom\n",
       "Multiple R-squared:  0.2145,\tAdjusted R-squared:  0.2145 \n",
       "F-statistic:  4904 on 95 and 1705728 DF,  p-value: < 2.2e-16\n"
      ]
     },
     "metadata": {},
     "output_type": "display_data"
    }
   ],
   "source": [
    "#### Linear Model transformed by log for cross validation\n",
    "cross_model = lm(formula=log(item_cnt_month)~., data = traincross)\n",
    "summary(cross_model)"
   ]
  },
  {
   "cell_type": "markdown",
   "metadata": {},
   "source": [
    "#### Prediction for cross validation test and train"
   ]
  },
  {
   "cell_type": "code",
   "execution_count": 12,
   "metadata": {},
   "outputs": [
    {
     "data": {
      "text/html": [
       "<style>\n",
       ".dl-inline {width: auto; margin:0; padding: 0}\n",
       ".dl-inline>dt, .dl-inline>dd {float: none; width: auto; display: inline-block}\n",
       ".dl-inline>dt::after {content: \":\\0020\"; padding-right: .5ex}\n",
       ".dl-inline>dt:not(:first-of-type) {padding-left: .5ex}\n",
       "</style><dl class=dl-inline><dt>484</dt><dd>0.14141171945679</dd><dt>811</dt><dd>0.113529568218508</dd><dt>817</dt><dd>0.113529568218508</dd><dt>846</dt><dd>0.113529568218508</dd><dt>884</dt><dd>0.113529568218508</dd><dt>888</dt><dd>0.113529568218508</dd></dl>\n"
      ],
      "text/latex": [
       "\\begin{description*}\n",
       "\\item[484] 0.14141171945679\n",
       "\\item[811] 0.113529568218508\n",
       "\\item[817] 0.113529568218508\n",
       "\\item[846] 0.113529568218508\n",
       "\\item[884] 0.113529568218508\n",
       "\\item[888] 0.113529568218508\n",
       "\\end{description*}\n"
      ],
      "text/markdown": [
       "484\n",
       ":   0.14141171945679811\n",
       ":   0.113529568218508817\n",
       ":   0.113529568218508846\n",
       ":   0.113529568218508884\n",
       ":   0.113529568218508888\n",
       ":   0.113529568218508\n",
       "\n"
      ],
      "text/plain": [
       "      484       811       817       846       884       888 \n",
       "0.1414117 0.1135296 0.1135296 0.1135296 0.1135296 0.1135296 "
      ]
     },
     "metadata": {},
     "output_type": "display_data"
    }
   ],
   "source": [
    "## prediction for cross validation\n",
    "\n",
    "pred_cross <- predict(cross_model, newdata = testcross_pred, type=\"response\")\n",
    "pred_cross <- exp(pred_cross) - 2\n",
    "head(pred_cross)"
   ]
  },
  {
   "cell_type": "markdown",
   "metadata": {},
   "source": [
    "### Accuracy of the Model"
   ]
  },
  {
   "cell_type": "code",
   "execution_count": 13,
   "metadata": {},
   "outputs": [
    {
     "data": {
      "text/html": [
       "1.0969649837042"
      ],
      "text/latex": [
       "1.0969649837042"
      ],
      "text/markdown": [
       "1.0969649837042"
      ],
      "text/plain": [
       "[1] 1.096965"
      ]
     },
     "metadata": {},
     "output_type": "display_data"
    },
    {
     "data": {
      "text/html": [
       "1.20333217547317"
      ],
      "text/latex": [
       "1.20333217547317"
      ],
      "text/markdown": [
       "1.20333217547317"
      ],
      "text/plain": [
       "[1] 1.203332"
      ]
     },
     "metadata": {},
     "output_type": "display_data"
    },
    {
     "data": {
      "text/html": [
       "'1.0969649837042 is RMSE'"
      ],
      "text/latex": [
       "'1.0969649837042 is RMSE'"
      ],
      "text/markdown": [
       "'1.0969649837042 is RMSE'"
      ],
      "text/plain": [
       "[1] \"1.0969649837042 is RMSE\""
      ]
     },
     "metadata": {},
     "output_type": "display_data"
    },
    {
     "data": {
      "text/html": [
       "'1.20333217547317 is MSE'"
      ],
      "text/latex": [
       "'1.20333217547317 is MSE'"
      ],
      "text/markdown": [
       "'1.20333217547317 is MSE'"
      ],
      "text/plain": [
       "[1] \"1.20333217547317 is MSE\""
      ]
     },
     "metadata": {},
     "output_type": "display_data"
    }
   ],
   "source": [
    "### RMSE and MSE for the cross validated predictions with actual known values\n",
    "\n",
    "actual_cross<-testcross_act$item_cnt_month-2\n",
    "\n",
    "r=rmse(actual_cross,pred_cross)\n",
    "m=MSE(pred_cross,actual_cross)\n",
    "r\n",
    "m\n",
    "paste(r, \"is RMSE\")\n",
    "paste(m, \"is MSE\")"
   ]
  },
  {
   "cell_type": "markdown",
   "metadata": {},
   "source": [
    "### Train data"
   ]
  },
  {
   "cell_type": "code",
   "execution_count": 14,
   "metadata": {},
   "outputs": [
    {
     "data": {
      "text/html": [
       "<table>\n",
       "<caption>A data.frame: 6 × 5</caption>\n",
       "<thead>\n",
       "\t<tr><th></th><th scope=col>date_block_num</th><th scope=col>month</th><th scope=col>shop_id</th><th scope=col>item_category_id</th><th scope=col>item_cnt_month</th></tr>\n",
       "\t<tr><th></th><th scope=col>&lt;int&gt;</th><th scope=col>&lt;fct&gt;</th><th scope=col>&lt;fct&gt;</th><th scope=col>&lt;fct&gt;</th><th scope=col>&lt;dbl&gt;</th></tr>\n",
       "</thead>\n",
       "<tbody>\n",
       "\t<tr><th scope=row>1</th><td>20</td><td>9 </td><td>54</td><td>40</td><td>2.083333</td></tr>\n",
       "\t<tr><th scope=row>2</th><td>20</td><td>9 </td><td>55</td><td>76</td><td>2.083333</td></tr>\n",
       "\t<tr><th scope=row>3</th><td>21</td><td>10</td><td>55</td><td>76</td><td>2.083333</td></tr>\n",
       "\t<tr><th scope=row>4</th><td>15</td><td>4 </td><td>55</td><td>76</td><td>2.166667</td></tr>\n",
       "\t<tr><th scope=row>5</th><td>18</td><td>7 </td><td>55</td><td>76</td><td>2.083333</td></tr>\n",
       "\t<tr><th scope=row>6</th><td>19</td><td>8 </td><td>55</td><td>76</td><td>2.083333</td></tr>\n",
       "</tbody>\n",
       "</table>\n"
      ],
      "text/latex": [
       "A data.frame: 6 × 5\n",
       "\\begin{tabular}{r|lllll}\n",
       "  & date\\_block\\_num & month & shop\\_id & item\\_category\\_id & item\\_cnt\\_month\\\\\n",
       "  & <int> & <fct> & <fct> & <fct> & <dbl>\\\\\n",
       "\\hline\n",
       "\t1 & 20 & 9  & 54 & 40 & 2.083333\\\\\n",
       "\t2 & 20 & 9  & 55 & 76 & 2.083333\\\\\n",
       "\t3 & 21 & 10 & 55 & 76 & 2.083333\\\\\n",
       "\t4 & 15 & 4  & 55 & 76 & 2.166667\\\\\n",
       "\t5 & 18 & 7  & 55 & 76 & 2.083333\\\\\n",
       "\t6 & 19 & 8  & 55 & 76 & 2.083333\\\\\n",
       "\\end{tabular}\n"
      ],
      "text/markdown": [
       "\n",
       "A data.frame: 6 × 5\n",
       "\n",
       "| <!--/--> | date_block_num &lt;int&gt; | month &lt;fct&gt; | shop_id &lt;fct&gt; | item_category_id &lt;fct&gt; | item_cnt_month &lt;dbl&gt; |\n",
       "|---|---|---|---|---|---|\n",
       "| 1 | 20 | 9  | 54 | 40 | 2.083333 |\n",
       "| 2 | 20 | 9  | 55 | 76 | 2.083333 |\n",
       "| 3 | 21 | 10 | 55 | 76 | 2.083333 |\n",
       "| 4 | 15 | 4  | 55 | 76 | 2.166667 |\n",
       "| 5 | 18 | 7  | 55 | 76 | 2.083333 |\n",
       "| 6 | 19 | 8  | 55 | 76 | 2.083333 |\n",
       "\n"
      ],
      "text/plain": [
       "  date_block_num month shop_id item_category_id item_cnt_month\n",
       "1 20             9     54      40               2.083333      \n",
       "2 20             9     55      76               2.083333      \n",
       "3 21             10    55      76               2.083333      \n",
       "4 15             4     55      76               2.166667      \n",
       "5 18             7     55      76               2.083333      \n",
       "6 19             8     55      76               2.083333      "
      ]
     },
     "metadata": {},
     "output_type": "display_data"
    }
   ],
   "source": [
    "#### Train data (Jan 2013 to Oct 2015) to predict for Nov 2015\n",
    "train_data  <- all_data[c(1,2,3,4,7)]\n",
    "head(train_data)"
   ]
  },
  {
   "cell_type": "markdown",
   "metadata": {},
   "source": [
    "### Model for all Train data"
   ]
  },
  {
   "cell_type": "code",
   "execution_count": 15,
   "metadata": {
    "scrolled": false
   },
   "outputs": [
    {
     "data": {
      "text/plain": [
       "\n",
       "Call:\n",
       "lm(formula = log(item_cnt_month) ~ ., data = train_data)\n",
       "\n",
       "Residuals:\n",
       "    Min      1Q  Median      3Q     Max \n",
       "-1.3608 -0.0337 -0.0151  0.0055  4.2952 \n",
       "\n",
       "Coefficients:\n",
       "                     Estimate Std. Error t value Pr(>|t|)    \n",
       "(Intercept)         7.432e-01  5.161e-02  14.402  < 2e-16 ***\n",
       "date_block_num     -3.836e-04  7.923e-06 -48.414  < 2e-16 ***\n",
       "month2             -2.261e-03  3.074e-04  -7.356 1.89e-13 ***\n",
       "month3              5.715e-04  3.067e-04   1.864 0.062388 .  \n",
       "month4             -2.643e-03  3.211e-04  -8.231  < 2e-16 ***\n",
       "month5             -4.414e-03  3.220e-04 -13.708  < 2e-16 ***\n",
       "month6             -3.322e-03  3.197e-04 -10.391  < 2e-16 ***\n",
       "month7             -4.526e-03  3.209e-04 -14.103  < 2e-16 ***\n",
       "month8             -3.980e-03  3.171e-04 -12.548  < 2e-16 ***\n",
       "month9              2.291e-03  3.300e-04   6.943 3.84e-12 ***\n",
       "month10             2.414e-03  3.339e-04   7.229 4.85e-13 ***\n",
       "month11             8.683e-03  3.542e-04  24.512  < 2e-16 ***\n",
       "month12             1.521e-02  3.251e-04  46.782  < 2e-16 ***\n",
       "shop_id1           -1.787e-02  2.015e-03  -8.866  < 2e-16 ***\n",
       "shop_id2           -3.141e-02  1.466e-03 -21.425  < 2e-16 ***\n",
       "shop_id3           -3.558e-02  1.456e-03 -24.436  < 2e-16 ***\n",
       "shop_id4           -2.892e-02  1.409e-03 -20.526  < 2e-16 ***\n",
       "shop_id5           -2.859e-02  1.410e-03 -20.283  < 2e-16 ***\n",
       "shop_id6           -1.522e-02  1.352e-03 -11.258  < 2e-16 ***\n",
       "shop_id7           -2.116e-02  1.377e-03 -15.366  < 2e-16 ***\n",
       "shop_id8           -3.484e-02  2.185e-03 -15.946  < 2e-16 ***\n",
       "shop_id9            1.495e-01  2.431e-03  61.496  < 2e-16 ***\n",
       "shop_id10          -3.842e-02  1.479e-03 -25.975  < 2e-16 ***\n",
       "shop_id11          -3.852e-02  4.592e-03  -8.387  < 2e-16 ***\n",
       "shop_id12          -1.256e-02  1.430e-03  -8.782  < 2e-16 ***\n",
       "shop_id13          -2.528e-02  1.522e-03 -16.611  < 2e-16 ***\n",
       "shop_id14          -2.457e-02  1.413e-03 -17.389  < 2e-16 ***\n",
       "shop_id15          -1.652e-02  1.379e-03 -11.984  < 2e-16 ***\n",
       "shop_id16          -2.385e-02  1.381e-03 -17.272  < 2e-16 ***\n",
       "shop_id17          -2.870e-02  1.474e-03 -19.471  < 2e-16 ***\n",
       "shop_id18          -1.964e-02  1.381e-03 -14.216  < 2e-16 ***\n",
       "shop_id19          -1.980e-02  1.369e-03 -14.460  < 2e-16 ***\n",
       "shop_id20           1.257e-01  3.248e-03  38.702  < 2e-16 ***\n",
       "shop_id21          -2.343e-02  1.369e-03 -17.108  < 2e-16 ***\n",
       "shop_id22          -2.035e-02  1.402e-03 -14.510  < 2e-16 ***\n",
       "shop_id23          -2.715e-02  1.836e-03 -14.787  < 2e-16 ***\n",
       "shop_id24          -1.807e-02  1.387e-03 -13.031  < 2e-16 ***\n",
       "shop_id25           3.094e-03  1.325e-03   2.336 0.019503 *  \n",
       "shop_id26          -2.146e-02  1.377e-03 -15.581  < 2e-16 ***\n",
       "shop_id27           4.213e-04  1.348e-03   0.312 0.754679    \n",
       "shop_id28           4.266e-03  1.335e-03   3.194 0.001401 ** \n",
       "shop_id29          -1.879e-02  1.392e-03 -13.498  < 2e-16 ***\n",
       "shop_id30          -2.286e-02  1.381e-03 -16.554  < 2e-16 ***\n",
       "shop_id31           1.237e-02  1.321e-03   9.369  < 2e-16 ***\n",
       "shop_id32          -3.276e-02  1.745e-03 -18.773  < 2e-16 ***\n",
       "shop_id33          -3.915e-02  1.952e-03 -20.052  < 2e-16 ***\n",
       "shop_id34          -4.544e-02  1.870e-03 -24.300  < 2e-16 ***\n",
       "shop_id35          -2.727e-02  1.369e-03 -19.924  < 2e-16 ***\n",
       "shop_id36          -4.447e-02  5.659e-03  -7.858 3.91e-15 ***\n",
       "shop_id37          -2.704e-02  1.400e-03 -19.311  < 2e-16 ***\n",
       "shop_id38          -2.443e-02  1.396e-03 -17.508  < 2e-16 ***\n",
       "shop_id39          -3.382e-02  1.569e-03 -21.552  < 2e-16 ***\n",
       "shop_id40          -2.306e-02  2.260e-03 -10.207  < 2e-16 ***\n",
       "shop_id41          -2.559e-02  1.401e-03 -18.266  < 2e-16 ***\n",
       "shop_id42          -5.905e-03  1.342e-03  -4.401 1.08e-05 ***\n",
       "shop_id43          -1.865e-02  1.415e-03 -13.177  < 2e-16 ***\n",
       "shop_id44          -2.852e-02  1.398e-03 -20.402  < 2e-16 ***\n",
       "shop_id45          -2.871e-02  1.412e-03 -20.326  < 2e-16 ***\n",
       "shop_id46          -1.777e-02  1.368e-03 -12.985  < 2e-16 ***\n",
       "shop_id47          -2.074e-02  1.380e-03 -15.031  < 2e-16 ***\n",
       "shop_id48          -2.611e-02  1.495e-03 -17.467  < 2e-16 ***\n",
       "shop_id49          -3.556e-02  1.538e-03 -23.127  < 2e-16 ***\n",
       "shop_id50          -1.706e-02  1.369e-03 -12.462  < 2e-16 ***\n",
       "shop_id51          -2.649e-02  1.388e-03 -19.076  < 2e-16 ***\n",
       "shop_id52          -2.681e-02  1.393e-03 -19.237  < 2e-16 ***\n",
       "shop_id53          -2.183e-02  1.385e-03 -15.767  < 2e-16 ***\n",
       "shop_id54           4.144e-04  1.331e-03   0.311 0.755549    \n",
       "shop_id55           6.718e-01  1.286e-02  52.249  < 2e-16 ***\n",
       "shop_id56          -2.201e-02  1.358e-03 -16.208  < 2e-16 ***\n",
       "shop_id57          -5.570e-03  1.341e-03  -4.154 3.27e-05 ***\n",
       "shop_id58          -1.400e-02  1.368e-03 -10.231  < 2e-16 ***\n",
       "shop_id59          -2.556e-02  1.402e-03 -18.230  < 2e-16 ***\n",
       "item_category_id1   6.416e-03  8.159e-02   0.079 0.937313    \n",
       "item_category_id2   3.471e-02  5.161e-02   0.673 0.501155    \n",
       "item_category_id3   7.612e-02  5.161e-02   1.475 0.140246    \n",
       "item_category_id4   3.640e-02  5.165e-02   0.705 0.480952    \n",
       "item_category_id5   2.539e-02  5.162e-02   0.492 0.622843    \n",
       "item_category_id6   4.808e-02  5.161e-02   0.932 0.351530    \n",
       "item_category_id7   3.962e-02  5.163e-02   0.768 0.442781    \n",
       "item_category_id8   3.506e-01  5.177e-02   6.772 1.27e-11 ***\n",
       "item_category_id9   1.925e-01  5.164e-02   3.727 0.000194 ***\n",
       "item_category_id10  1.600e-02  1.032e-01   0.155 0.876826    \n",
       "item_category_id11  2.678e-02  5.162e-02   0.519 0.603867    \n",
       "item_category_id12  1.148e-01  5.163e-02   2.223 0.026228 *  \n",
       "item_category_id13  1.943e-02  5.185e-02   0.375 0.707834    \n",
       "item_category_id14  2.163e-02  5.163e-02   0.419 0.675314    \n",
       "item_category_id15  3.195e-02  5.162e-02   0.619 0.535956    \n",
       "item_category_id16  3.321e-02  5.164e-02   0.643 0.520238    \n",
       "item_category_id17  1.390e-02  5.187e-02   0.268 0.788703    \n",
       "item_category_id18  2.345e-02  5.958e-02   0.394 0.693942    \n",
       "item_category_id19  5.600e-02  5.160e-02   1.085 0.277822    \n",
       "item_category_id20  1.049e-01  5.160e-02   2.033 0.042023 *  \n",
       "item_category_id21  3.107e-02  5.160e-02   0.602 0.547175    \n",
       "item_category_id22  3.628e-02  5.161e-02   0.703 0.482020    \n",
       "item_category_id23  4.749e-02  5.160e-02   0.920 0.357402    \n",
       "item_category_id24  3.754e-02  5.161e-02   0.727 0.466980    \n",
       "item_category_id25  2.673e-02  5.161e-02   0.518 0.604439    \n",
       "item_category_id26 -5.377e-01  5.633e-02  -9.546  < 2e-16 ***\n",
       "item_category_id27 -6.740e-01  6.184e-02 -10.898  < 2e-16 ***\n",
       "item_category_id28  8.120e-02  5.160e-02   1.574 0.115600    \n",
       "item_category_id29  8.689e-02  5.161e-02   1.684 0.092258 .  \n",
       "item_category_id30  7.965e-02  5.160e-02   1.544 0.122679    \n",
       "item_category_id31 -6.027e-01  5.317e-02 -11.335  < 2e-16 ***\n",
       "item_category_id32  8.687e-02  5.164e-02   1.682 0.092526 .  \n",
       "item_category_id33  5.311e-02  5.162e-02   1.029 0.303506    \n",
       "item_category_id34  3.593e-01  5.387e-02   6.670 2.55e-11 ***\n",
       "item_category_id35  1.587e-01  5.161e-02   3.075 0.002106 ** \n",
       "item_category_id36 -6.148e-01  6.094e-02 -10.088  < 2e-16 ***\n",
       "item_category_id37  2.560e-02  5.160e-02   0.496 0.619870    \n",
       "item_category_id38  2.475e-02  5.160e-02   0.480 0.631536    \n",
       "item_category_id39  2.048e-02  5.176e-02   0.396 0.692361    \n",
       "item_category_id40  3.884e-02  5.160e-02   0.753 0.451593    \n",
       "item_category_id41  2.141e-02  5.160e-02   0.415 0.678174    \n",
       "item_category_id42  9.587e-02  5.167e-02   1.856 0.063520 .  \n",
       "item_category_id43  1.144e-02  5.160e-02   0.222 0.824501    \n",
       "item_category_id44 -6.690e-01  5.349e-02 -12.508  < 2e-16 ***\n",
       "item_category_id45  1.022e-02  5.162e-02   0.198 0.842997    \n",
       "item_category_id46  1.268e-02  5.653e-02   0.224 0.822503    \n",
       "item_category_id47  5.231e-02  5.163e-02   1.013 0.310893    \n",
       "item_category_id48  1.587e-02  6.320e-02   0.251 0.801747    \n",
       "item_category_id49  4.757e-02  5.161e-02   0.922 0.356694    \n",
       "item_category_id50  5.817e-02  8.159e-02   0.713 0.475851    \n",
       "item_category_id51  2.661e-02  1.032e-01   0.258 0.796550    \n",
       "item_category_id52  2.560e-02  7.298e-02   0.351 0.725693    \n",
       "item_category_id53  2.802e-03  7.297e-02   0.038 0.969367    \n",
       "item_category_id54 -4.626e-01  5.325e-02  -8.689  < 2e-16 ***\n",
       "item_category_id55  2.597e-02  5.160e-02   0.503 0.614772    \n",
       "item_category_id56  1.668e-02  5.161e-02   0.323 0.746633    \n",
       "item_category_id57  1.740e-02  5.160e-02   0.337 0.735987    \n",
       "item_category_id58  1.030e-02  5.161e-02   0.200 0.841731    \n",
       "item_category_id59  7.082e-03  5.161e-02   0.137 0.890861    \n",
       "item_category_id60  1.063e-02  5.166e-02   0.206 0.837019    \n",
       "item_category_id61  2.355e-02  5.161e-02   0.456 0.648189    \n",
       "item_category_id62  3.246e-02  5.161e-02   0.629 0.529352    \n",
       "item_category_id63  3.703e-02  5.160e-02   0.718 0.472953    \n",
       "item_category_id64  3.352e-02  5.160e-02   0.650 0.515933    \n",
       "item_category_id65  7.430e-02  5.160e-02   1.440 0.149938    \n",
       "item_category_id66  5.454e-02  5.163e-02   1.056 0.290823    \n",
       "item_category_id67  2.618e-02  5.160e-02   0.507 0.611971    \n",
       "item_category_id68 -8.202e-03  5.232e-02  -0.157 0.875434    \n",
       "item_category_id69  4.541e-02  5.161e-02   0.880 0.378936    \n",
       "item_category_id70  5.957e-02  5.160e-02   1.154 0.248333    \n",
       "item_category_id71  1.354e+00  5.165e-02  26.218  < 2e-16 ***\n",
       "item_category_id72  3.292e-02  5.160e-02   0.638 0.523556    \n",
       "item_category_id73  5.933e-02  5.161e-02   1.149 0.250354    \n",
       "item_category_id74 -6.076e-01  5.663e-02 -10.730  < 2e-16 ***\n",
       "item_category_id75  5.624e-02  5.160e-02   1.090 0.275760    \n",
       "item_category_id76 -5.983e-01  5.321e-02 -11.244  < 2e-16 ***\n",
       "item_category_id77  3.540e-02  5.163e-02   0.686 0.492942    \n",
       "item_category_id78 -6.558e-01  5.321e-02 -12.326  < 2e-16 ***\n",
       "item_category_id79  5.742e-02  5.161e-02   1.112 0.265927    \n",
       "item_category_id80  2.588e-01  5.180e-02   4.997 5.84e-07 ***\n",
       "item_category_id81  8.380e-02  5.184e-02   1.617 0.105941    \n",
       "item_category_id82  3.509e-01  5.169e-02   6.787 1.14e-11 ***\n",
       "item_category_id83  1.373e-01  5.163e-02   2.659 0.007826 ** \n",
       "---\n",
       "Signif. codes:  0 '***' 0.001 '**' 0.01 '*' 0.05 '.' 0.1 ' ' 1\n",
       "\n",
       "Residual standard error: 0.08937 on 1738867 degrees of freedom\n",
       "Multiple R-squared:  0.2351,\tAdjusted R-squared:  0.2351 \n",
       "F-statistic:  3471 on 154 and 1738867 DF,  p-value: < 2.2e-16\n"
      ]
     },
     "metadata": {},
     "output_type": "display_data"
    }
   ],
   "source": [
    "#### Linear Model transformed by log for prediction of Nov 2015\n",
    "nov_model = lm(formula=log(item_cnt_month)~., data = train_data)\n",
    "summary(nov_model)"
   ]
  },
  {
   "cell_type": "markdown",
   "metadata": {},
   "source": [
    "### Test Data"
   ]
  },
  {
   "cell_type": "code",
   "execution_count": 16,
   "metadata": {},
   "outputs": [
    {
     "data": {
      "text/html": [
       "<table>\n",
       "<caption>A data.frame: 6 × 5</caption>\n",
       "<thead>\n",
       "\t<tr><th></th><th scope=col>ID</th><th scope=col>shop_id</th><th scope=col>item_id</th><th scope=col>month</th><th scope=col>date_block_num</th></tr>\n",
       "\t<tr><th></th><th scope=col>&lt;int&gt;</th><th scope=col>&lt;fct&gt;</th><th scope=col>&lt;int&gt;</th><th scope=col>&lt;fct&gt;</th><th scope=col>&lt;dbl&gt;</th></tr>\n",
       "</thead>\n",
       "<tbody>\n",
       "\t<tr><th scope=row>1</th><td>0</td><td>5</td><td>5037</td><td>11</td><td>34</td></tr>\n",
       "\t<tr><th scope=row>2</th><td>1</td><td>5</td><td>5320</td><td>11</td><td>34</td></tr>\n",
       "\t<tr><th scope=row>3</th><td>2</td><td>5</td><td>5233</td><td>11</td><td>34</td></tr>\n",
       "\t<tr><th scope=row>4</th><td>3</td><td>5</td><td>5232</td><td>11</td><td>34</td></tr>\n",
       "\t<tr><th scope=row>5</th><td>4</td><td>5</td><td>5268</td><td>11</td><td>34</td></tr>\n",
       "\t<tr><th scope=row>6</th><td>5</td><td>5</td><td>5039</td><td>11</td><td>34</td></tr>\n",
       "</tbody>\n",
       "</table>\n"
      ],
      "text/latex": [
       "A data.frame: 6 × 5\n",
       "\\begin{tabular}{r|lllll}\n",
       "  & ID & shop\\_id & item\\_id & month & date\\_block\\_num\\\\\n",
       "  & <int> & <fct> & <int> & <fct> & <dbl>\\\\\n",
       "\\hline\n",
       "\t1 & 0 & 5 & 5037 & 11 & 34\\\\\n",
       "\t2 & 1 & 5 & 5320 & 11 & 34\\\\\n",
       "\t3 & 2 & 5 & 5233 & 11 & 34\\\\\n",
       "\t4 & 3 & 5 & 5232 & 11 & 34\\\\\n",
       "\t5 & 4 & 5 & 5268 & 11 & 34\\\\\n",
       "\t6 & 5 & 5 & 5039 & 11 & 34\\\\\n",
       "\\end{tabular}\n"
      ],
      "text/markdown": [
       "\n",
       "A data.frame: 6 × 5\n",
       "\n",
       "| <!--/--> | ID &lt;int&gt; | shop_id &lt;fct&gt; | item_id &lt;int&gt; | month &lt;fct&gt; | date_block_num &lt;dbl&gt; |\n",
       "|---|---|---|---|---|---|\n",
       "| 1 | 0 | 5 | 5037 | 11 | 34 |\n",
       "| 2 | 1 | 5 | 5320 | 11 | 34 |\n",
       "| 3 | 2 | 5 | 5233 | 11 | 34 |\n",
       "| 4 | 3 | 5 | 5232 | 11 | 34 |\n",
       "| 5 | 4 | 5 | 5268 | 11 | 34 |\n",
       "| 6 | 5 | 5 | 5039 | 11 | 34 |\n",
       "\n"
      ],
      "text/plain": [
       "  ID shop_id item_id month date_block_num\n",
       "1 0  5       5037    11    34            \n",
       "2 1  5       5320    11    34            \n",
       "3 2  5       5233    11    34            \n",
       "4 3  5       5232    11    34            \n",
       "5 4  5       5268    11    34            \n",
       "6 5  5       5039    11    34            "
      ]
     },
     "metadata": {},
     "output_type": "display_data"
    }
   ],
   "source": [
    "### Test data for Nov 2015 prediction\n",
    "\n",
    "test_data$month <- as.factor(11)         #Nov is month 11\n",
    "test_data$shop_id <- as.factor(test_data$shop_id)\n",
    "test_data$date_block_num <- 34           #latest month for given data\n",
    "head(test_data)"
   ]
  },
  {
   "cell_type": "code",
   "execution_count": 17,
   "metadata": {},
   "outputs": [
    {
     "data": {
      "text/html": [
       "<table>\n",
       "<caption>A data.frame: 6 × 7</caption>\n",
       "<thead>\n",
       "\t<tr><th></th><th scope=col>ID</th><th scope=col>shop_id</th><th scope=col>item_id</th><th scope=col>month</th><th scope=col>date_block_num</th><th scope=col>item_name</th><th scope=col>item_category_id</th></tr>\n",
       "\t<tr><th></th><th scope=col>&lt;int&gt;</th><th scope=col>&lt;fct&gt;</th><th scope=col>&lt;int&gt;</th><th scope=col>&lt;fct&gt;</th><th scope=col>&lt;dbl&gt;</th><th scope=col>&lt;chr&gt;</th><th scope=col>&lt;fct&gt;</th></tr>\n",
       "</thead>\n",
       "<tbody>\n",
       "\t<tr><th scope=row>1</th><td>0</td><td>5</td><td>5037</td><td>11</td><td>34</td><td>NHL 15 [PS3, Ñ€ÑƒÑÑÐºÐ¸Ðµ ÑÑƒÐ±Ñ‚Ð¸Ñ‚Ñ€Ñ‹]                           </td><td>19</td></tr>\n",
       "\t<tr><th scope=row>2</th><td>1</td><td>5</td><td>5320</td><td>11</td><td>34</td><td>ONE DIRECTION  Made In The A.M.                                         </td><td>55</td></tr>\n",
       "\t<tr><th scope=row>3</th><td>2</td><td>5</td><td>5233</td><td>11</td><td>34</td><td>Need for Speed Rivals (Essentials) [PS3, Ñ€ÑƒÑÑÐºÐ°Ñ Ð²ÐµÑ€ÑÐ¸Ñ]   </td><td>19</td></tr>\n",
       "\t<tr><th scope=row>4</th><td>3</td><td>5</td><td>5232</td><td>11</td><td>34</td><td>Need for Speed Rivals (Classics) [Xbox 360, Ñ€ÑƒÑÑÐºÐ°Ñ Ð²ÐµÑ€ÑÐ¸Ñ]</td><td>23</td></tr>\n",
       "\t<tr><th scope=row>5</th><td>4</td><td>5</td><td>5268</td><td>11</td><td>34</td><td>Need for Speed [PS4, Ñ€ÑƒÑÑÐºÐ°Ñ Ð²ÐµÑ€ÑÐ¸Ñ]                       </td><td>20</td></tr>\n",
       "\t<tr><th scope=row>6</th><td>5</td><td>5</td><td>5039</td><td>11</td><td>34</td><td>NHL 15 [Xbox 360, Ñ€ÑƒÑÑÐºÐ¸Ðµ ÑÑƒÐ±Ñ‚Ð¸Ñ‚Ñ€Ñ‹]                      </td><td>23</td></tr>\n",
       "</tbody>\n",
       "</table>\n"
      ],
      "text/latex": [
       "A data.frame: 6 × 7\n",
       "\\begin{tabular}{r|lllllll}\n",
       "  & ID & shop\\_id & item\\_id & month & date\\_block\\_num & item\\_name & item\\_category\\_id\\\\\n",
       "  & <int> & <fct> & <int> & <fct> & <dbl> & <chr> & <fct>\\\\\n",
       "\\hline\n",
       "\t1 & 0 & 5 & 5037 & 11 & 34 & NHL 15 {[}PS3, Ñ€ÑƒÑÑÐºÐ¸Ðµ ÑÑƒÐ±Ñ‚Ð¸Ñ‚Ñ€Ñ‹{]}                            & 19\\\\\n",
       "\t2 & 1 & 5 & 5320 & 11 & 34 & ONE DIRECTION  Made In The A.M.                                          & 55\\\\\n",
       "\t3 & 2 & 5 & 5233 & 11 & 34 & Need for Speed Rivals (Essentials) {[}PS3, Ñ€ÑƒÑÑÐºÐ°Ñ Ð²ÐµÑ€ÑÐ¸Ñ{]}    & 19\\\\\n",
       "\t4 & 3 & 5 & 5232 & 11 & 34 & Need for Speed Rivals (Classics) {[}Xbox 360, Ñ€ÑƒÑÑÐºÐ°Ñ Ð²ÐµÑ€ÑÐ¸Ñ{]} & 23\\\\\n",
       "\t5 & 4 & 5 & 5268 & 11 & 34 & Need for Speed {[}PS4, Ñ€ÑƒÑÑÐºÐ°Ñ Ð²ÐµÑ€ÑÐ¸Ñ{]}                        & 20\\\\\n",
       "\t6 & 5 & 5 & 5039 & 11 & 34 & NHL 15 {[}Xbox 360, Ñ€ÑƒÑÑÐºÐ¸Ðµ ÑÑƒÐ±Ñ‚Ð¸Ñ‚Ñ€Ñ‹{]}                       & 23\\\\\n",
       "\\end{tabular}\n"
      ],
      "text/markdown": [
       "\n",
       "A data.frame: 6 × 7\n",
       "\n",
       "| <!--/--> | ID &lt;int&gt; | shop_id &lt;fct&gt; | item_id &lt;int&gt; | month &lt;fct&gt; | date_block_num &lt;dbl&gt; | item_name &lt;chr&gt; | item_category_id &lt;fct&gt; |\n",
       "|---|---|---|---|---|---|---|---|\n",
       "| 1 | 0 | 5 | 5037 | 11 | 34 | NHL 15 [PS3, Ñ€ÑƒÑÑÐºÐ¸Ðµ ÑÑƒÐ±Ñ‚Ð¸Ñ‚Ñ€Ñ‹]                            | 19 |\n",
       "| 2 | 1 | 5 | 5320 | 11 | 34 | ONE DIRECTION  Made In The A.M.                                          | 55 |\n",
       "| 3 | 2 | 5 | 5233 | 11 | 34 | Need for Speed Rivals (Essentials) [PS3, Ñ€ÑƒÑÑÐºÐ°Ñ Ð²ÐµÑ€ÑÐ¸Ñ]    | 19 |\n",
       "| 4 | 3 | 5 | 5232 | 11 | 34 | Need for Speed Rivals (Classics) [Xbox 360, Ñ€ÑƒÑÑÐºÐ°Ñ Ð²ÐµÑ€ÑÐ¸Ñ] | 23 |\n",
       "| 5 | 4 | 5 | 5268 | 11 | 34 | Need for Speed [PS4, Ñ€ÑƒÑÑÐºÐ°Ñ Ð²ÐµÑ€ÑÐ¸Ñ]                        | 20 |\n",
       "| 6 | 5 | 5 | 5039 | 11 | 34 | NHL 15 [Xbox 360, Ñ€ÑƒÑÑÐºÐ¸Ðµ ÑÑƒÐ±Ñ‚Ð¸Ñ‚Ñ€Ñ‹]                       | 23 |\n",
       "\n"
      ],
      "text/plain": [
       "  ID shop_id item_id month date_block_num\n",
       "1 0  5       5037    11    34            \n",
       "2 1  5       5320    11    34            \n",
       "3 2  5       5233    11    34            \n",
       "4 3  5       5232    11    34            \n",
       "5 4  5       5268    11    34            \n",
       "6 5  5       5039    11    34            \n",
       "  item_name                                                               \n",
       "1 NHL 15 [PS3, Ñ\\200ÑƒÑ\\201Ñ\\201ÐºÐ¸Ðµ Ñ\\201ÑƒÐ±Ñ‚Ð¸Ñ‚Ñ\\200Ñ‹]                           \n",
       "2 ONE DIRECTION  Made In The A.M.                                         \n",
       "3 Need for Speed Rivals (Essentials) [PS3, Ñ\\200ÑƒÑ\\201Ñ\\201ÐºÐ°Ñ\\217 Ð²ÐµÑ\\200Ñ\\201Ð¸Ñ\\217]   \n",
       "4 Need for Speed Rivals (Classics) [Xbox 360, Ñ\\200ÑƒÑ\\201Ñ\\201ÐºÐ°Ñ\\217 Ð²ÐµÑ\\200Ñ\\201Ð¸Ñ\\217]\n",
       "5 Need for Speed [PS4, Ñ\\200ÑƒÑ\\201Ñ\\201ÐºÐ°Ñ\\217 Ð²ÐµÑ\\200Ñ\\201Ð¸Ñ\\217]                       \n",
       "6 NHL 15 [Xbox 360, Ñ\\200ÑƒÑ\\201Ñ\\201ÐºÐ¸Ðµ Ñ\\201ÑƒÐ±Ñ‚Ð¸Ñ‚Ñ\\200Ñ‹]                      \n",
       "  item_category_id\n",
       "1 19              \n",
       "2 55              \n",
       "3 19              \n",
       "4 23              \n",
       "5 20              \n",
       "6 23              "
      ]
     },
     "metadata": {},
     "output_type": "display_data"
    }
   ],
   "source": [
    "#####Updating test_data with items info\n",
    "nov_test <- join (test_data, items, by = c(\"item_id\"))\n",
    "nov_test$item_category_id <- as.factor(nov_test$item_category_id)\n",
    "head(nov_test)"
   ]
  },
  {
   "cell_type": "markdown",
   "metadata": {},
   "source": [
    "### Predictions"
   ]
  },
  {
   "cell_type": "code",
   "execution_count": 18,
   "metadata": {},
   "outputs": [
    {
     "data": {
      "text/html": [
       "<style>\n",
       ".dl-inline {width: auto; margin:0; padding: 0}\n",
       ".dl-inline>dt, .dl-inline>dd {float: none; width: auto; display: inline-block}\n",
       ".dl-inline>dt::after {content: \":\\0020\"; padding-right: .5ex}\n",
       ".dl-inline>dt:not(:first-of-type) {padding-left: .5ex}\n",
       "</style><dl class=dl-inline><dt>1</dt><dd>0.151741555414417</dd><dt>2</dt><dd>0.0880859932048352</dd><dt>3</dt><dd>0.151741555414417</dd><dt>4</dt><dd>0.133510536833399</dd><dt>5</dt><dd>0.259633452803673</dd><dt>6</dt><dd>0.133510536833399</dd></dl>\n"
      ],
      "text/latex": [
       "\\begin{description*}\n",
       "\\item[1] 0.151741555414417\n",
       "\\item[2] 0.0880859932048352\n",
       "\\item[3] 0.151741555414417\n",
       "\\item[4] 0.133510536833399\n",
       "\\item[5] 0.259633452803673\n",
       "\\item[6] 0.133510536833399\n",
       "\\end{description*}\n"
      ],
      "text/markdown": [
       "1\n",
       ":   0.1517415554144172\n",
       ":   0.08808599320483523\n",
       ":   0.1517415554144174\n",
       ":   0.1335105368333995\n",
       ":   0.2596334528036736\n",
       ":   0.133510536833399\n",
       "\n"
      ],
      "text/plain": [
       "         1          2          3          4          5          6 \n",
       "0.15174156 0.08808599 0.15174156 0.13351054 0.25963345 0.13351054 "
      ]
     },
     "metadata": {},
     "output_type": "display_data"
    }
   ],
   "source": [
    "####Predictions for November 2015\n",
    "pred_nov <- predict(nov_model, newdata = nov_test, type=\"response\")\n",
    "pred_nov <- exp(pred_nov) - 2\n",
    "head(pred_nov)"
   ]
  },
  {
   "cell_type": "markdown",
   "metadata": {},
   "source": [
    "### Final Result"
   ]
  },
  {
   "cell_type": "code",
   "execution_count": 19,
   "metadata": {},
   "outputs": [
    {
     "data": {
      "text/html": [
       "<table>\n",
       "<caption>A data.frame: 6 × 2</caption>\n",
       "<thead>\n",
       "\t<tr><th></th><th scope=col>ID</th><th scope=col>item_cnt_month</th></tr>\n",
       "\t<tr><th></th><th scope=col>&lt;int&gt;</th><th scope=col>&lt;dbl&gt;</th></tr>\n",
       "</thead>\n",
       "<tbody>\n",
       "\t<tr><th scope=row>1</th><td>0</td><td>0.15174156</td></tr>\n",
       "\t<tr><th scope=row>2</th><td>1</td><td>0.08808599</td></tr>\n",
       "\t<tr><th scope=row>3</th><td>2</td><td>0.15174156</td></tr>\n",
       "\t<tr><th scope=row>4</th><td>3</td><td>0.13351054</td></tr>\n",
       "\t<tr><th scope=row>5</th><td>4</td><td>0.25963345</td></tr>\n",
       "\t<tr><th scope=row>6</th><td>5</td><td>0.13351054</td></tr>\n",
       "</tbody>\n",
       "</table>\n"
      ],
      "text/latex": [
       "A data.frame: 6 × 2\n",
       "\\begin{tabular}{r|ll}\n",
       "  & ID & item\\_cnt\\_month\\\\\n",
       "  & <int> & <dbl>\\\\\n",
       "\\hline\n",
       "\t1 & 0 & 0.15174156\\\\\n",
       "\t2 & 1 & 0.08808599\\\\\n",
       "\t3 & 2 & 0.15174156\\\\\n",
       "\t4 & 3 & 0.13351054\\\\\n",
       "\t5 & 4 & 0.25963345\\\\\n",
       "\t6 & 5 & 0.13351054\\\\\n",
       "\\end{tabular}\n"
      ],
      "text/markdown": [
       "\n",
       "A data.frame: 6 × 2\n",
       "\n",
       "| <!--/--> | ID &lt;int&gt; | item_cnt_month &lt;dbl&gt; |\n",
       "|---|---|---|\n",
       "| 1 | 0 | 0.15174156 |\n",
       "| 2 | 1 | 0.08808599 |\n",
       "| 3 | 2 | 0.15174156 |\n",
       "| 4 | 3 | 0.13351054 |\n",
       "| 5 | 4 | 0.25963345 |\n",
       "| 6 | 5 | 0.13351054 |\n",
       "\n"
      ],
      "text/plain": [
       "  ID item_cnt_month\n",
       "1 0  0.15174156    \n",
       "2 1  0.08808599    \n",
       "3 2  0.15174156    \n",
       "4 3  0.13351054    \n",
       "5 4  0.25963345    \n",
       "6 5  0.13351054    "
      ]
     },
     "metadata": {},
     "output_type": "display_data"
    }
   ],
   "source": [
    "####Result of predictions for Nov 2015\n",
    "nov_test$item_cnt_month <- pred_nov\n",
    "result <- nov_test[c(1,8)]\n",
    "head(result)"
   ]
  },
  {
   "cell_type": "code",
   "execution_count": null,
   "metadata": {},
   "outputs": [],
   "source": []
  }
 ],
 "metadata": {
  "kernelspec": {
   "display_name": "R",
   "language": "R",
   "name": "ir"
  },
  "language_info": {
   "codemirror_mode": "r",
   "file_extension": ".r",
   "mimetype": "text/x-r-source",
   "name": "R",
   "pygments_lexer": "r",
   "version": "4.0.2"
  }
 },
 "nbformat": 4,
 "nbformat_minor": 4
}
